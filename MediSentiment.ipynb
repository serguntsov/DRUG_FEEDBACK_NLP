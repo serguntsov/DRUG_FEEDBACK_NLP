{
 "cells": [
  {
   "cell_type": "markdown",
   "id": "6b7ed270",
   "metadata": {},
   "source": [
    "### <h2 style=\"font-size: 40px;\">Состояние пациента по отзыву на лекарство</h2>"
   ]
  },
  {
   "cell_type": "code",
   "execution_count": null,
   "id": "c387f458",
   "metadata": {},
   "outputs": [],
   "source": [
    "import pandas as pd\n",
    "import numpy as np\n",
    "import os\n",
    "import matplotlib.pyplot as plt\n",
    "import seaborn as sns\n",
    "import re\n",
    "import torch"
   ]
  },
  {
   "cell_type": "code",
   "execution_count": null,
   "id": "b6e24bcc",
   "metadata": {},
   "outputs": [
    {
     "name": "stdout",
     "output_type": "stream",
     "text": [
      "--2025-06-09 22:52:23--  https://archive.ics.uci.edu/ml/machine-learning-databases/00462/drugsCom_raw.zip\n",
      "Распознаётся archive.ics.uci.edu (archive.ics.uci.edu)… 128.195.10.252\n",
      "Подключение к archive.ics.uci.edu (archive.ics.uci.edu)|128.195.10.252|:443... соединение установлено.\n",
      "HTTP-запрос отправлен. Ожидание ответа… 200 OK\n",
      "Длина: нет данных\n",
      "Сохранение в: ‘drugsCom_raw.zip’\n",
      "\n",
      "drugsCom_raw.zip        [ <=>                ]  41,00M   191KB/s    за 3m 40s  \n",
      "\n",
      "2025-06-09 22:56:05 (191 KB/s) - ‘drugsCom_raw.zip’ сохранён [42989872]\n",
      "\n",
      "Archive:  drugsCom_raw.zip\n",
      "  inflating: /home/serguntsov/datasets/drugsComTest_raw.tsv  \n",
      "  inflating: /home/serguntsov/datasets/drugsComTrain_raw.tsv  \n"
     ]
    }
   ],
   "source": [
    "#!wget \"https://archive.ics.uci.edu/ml/machine-learning-databases/00462/drugsCom_raw.zip\"\n",
    "#!unzip drugsCom_raw.zip -d ./datasets/\n",
    "#!rm drugsCom_raw.zip"
   ]
  },
  {
   "cell_type": "code",
   "execution_count": null,
   "id": "4313ab14",
   "metadata": {},
   "outputs": [],
   "source": []
  }
 ],
 "metadata": {
  "kernelspec": {
   "display_name": "myenv",
   "language": "python",
   "name": "python3"
  },
  "language_info": {
   "codemirror_mode": {
    "name": "ipython",
    "version": 3
   },
   "file_extension": ".py",
   "mimetype": "text/x-python",
   "name": "python",
   "nbconvert_exporter": "python",
   "pygments_lexer": "ipython3",
   "version": "3.12.7"
  }
 },
 "nbformat": 4,
 "nbformat_minor": 5
}
