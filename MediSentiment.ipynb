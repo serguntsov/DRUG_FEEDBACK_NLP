{
 "cells": [
  {
   "cell_type": "markdown",
   "id": "6b7ed270",
   "metadata": {},
   "source": [
    "### <h2 style=\"font-size: 40px;\">Состояние пациента по отзыву на лекарство</h2>"
   ]
  },
  {
   "cell_type": "markdown",
   "id": "a6f767a7",
   "metadata": {},
   "source": [
    "#### Техническое задание\n",
    "\n",
    "Разработать модель машинного обучения, которая по тексту отзыва пациента на лекарство предсказывает его состояние. \\\n",
    "Если оценка лекарства пользователем менее 7, то лекарство не помогло и состояние пациента не улучшилось."
   ]
  },
  {
   "cell_type": "markdown",
   "id": "8aa6faf0",
   "metadata": {},
   "source": [
    "#### Описание данных\n",
    "\n",
    "- `uniqueID` - уникальный идентификатор пользователя\n",
    "- `drugName` - \tназвание лекарственного средства\n",
    "- `condition` - место применения\n",
    "- `review` - отзыв пользователя на лекарство\n",
    "- `rating` - оценка лекарства пользователем\n",
    "- `date` - дата публикации отзыва\n",
    "- `usefulCount` - количество пользователей, которые сочли отзыв корректным"
   ]
  },
  {
   "cell_type": "markdown",
   "id": "2adfb08c",
   "metadata": {},
   "source": [
    "### Загрузка данных"
   ]
  },
  {
   "cell_type": "code",
   "execution_count": 27,
   "id": "0ac8d037",
   "metadata": {},
   "outputs": [],
   "source": [
    "import pandas as pd\n",
    "import numpy as np\n",
    "import os\n",
    "import matplotlib.pyplot as plt\n",
    "import seaborn as sns\n",
    "import re\n",
    "import torch\n",
    "import logging\n",
    "\n",
    "\n",
    "from tqdm import tqdm\n",
    "from transformers import pipeline\n",
    "\n",
    "RANDOM_STATE=42\n",
    "np.random.seed(RANDOM_STATE)\n",
    "logging.getLogger(\"transformers\").setLevel(logging.ERROR)\n",
    "tqdm.pandas()"
   ]
  },
  {
   "cell_type": "code",
   "execution_count": 28,
   "id": "17e7778f",
   "metadata": {},
   "outputs": [
    {
     "name": "stdout",
     "output_type": "stream",
     "text": [
      "Using device: cuda\n"
     ]
    }
   ],
   "source": [
    "device = torch.device('cuda' if torch.cuda.is_available() else 'cpu')\n",
    "print(f\"Using device: {device}\")"
   ]
  },
  {
   "cell_type": "code",
   "execution_count": 29,
   "id": "b6e24bcc",
   "metadata": {},
   "outputs": [],
   "source": [
    "# Загрузка и распаковка датасетов\n",
    "\n",
    "#!wget \"https://archive.ics.uci.edu/ml/machine-learning-databases/00462/drugsCom_raw.zip\"\n",
    "#!unzip drugsCom_raw.zip -d ./datasets/\n",
    "#!rm drugsCom_raw.zip"
   ]
  },
  {
   "cell_type": "code",
   "execution_count": 30,
   "id": "4313ab14",
   "metadata": {},
   "outputs": [],
   "source": [
    "# Функция для быстрого ознакомления и парсинга таблицы\n",
    "def parse_dataset(path):\n",
    "    df = pd.read_csv(path, sep='\\t', parse_dates=['date'])\n",
    "    display(df.head())\n",
    "\n",
    "    display(round(df.isna().mean() * 100, 2).sort_values(ascending=False).to_frame(name='Процент пропусков'))\n",
    "\n",
    "    df.info()\n",
    "    return df\n",
    "\n",
    "\n",
    "# Функция для проверки наличия файла\n",
    "def check_dataset(path):    \n",
    "    if os.path.exists(path):\n",
    "        return parse_dataset(path)\n",
    "    else:\n",
    "        print('Неправильный путь к файлу')"
   ]
  },
  {
   "cell_type": "code",
   "execution_count": 31,
   "id": "997c7372",
   "metadata": {},
   "outputs": [
    {
     "data": {
      "text/html": [
       "<div>\n",
       "<style scoped>\n",
       "    .dataframe tbody tr th:only-of-type {\n",
       "        vertical-align: middle;\n",
       "    }\n",
       "\n",
       "    .dataframe tbody tr th {\n",
       "        vertical-align: top;\n",
       "    }\n",
       "\n",
       "    .dataframe thead th {\n",
       "        text-align: right;\n",
       "    }\n",
       "</style>\n",
       "<table border=\"1\" class=\"dataframe\">\n",
       "  <thead>\n",
       "    <tr style=\"text-align: right;\">\n",
       "      <th></th>\n",
       "      <th>Unnamed: 0</th>\n",
       "      <th>drugName</th>\n",
       "      <th>condition</th>\n",
       "      <th>review</th>\n",
       "      <th>rating</th>\n",
       "      <th>date</th>\n",
       "      <th>usefulCount</th>\n",
       "    </tr>\n",
       "  </thead>\n",
       "  <tbody>\n",
       "    <tr>\n",
       "      <th>0</th>\n",
       "      <td>206461</td>\n",
       "      <td>Valsartan</td>\n",
       "      <td>Left Ventricular Dysfunction</td>\n",
       "      <td>\"It has no side effect, I take it in combinati...</td>\n",
       "      <td>9.0</td>\n",
       "      <td>2012-05-20</td>\n",
       "      <td>27</td>\n",
       "    </tr>\n",
       "    <tr>\n",
       "      <th>1</th>\n",
       "      <td>95260</td>\n",
       "      <td>Guanfacine</td>\n",
       "      <td>ADHD</td>\n",
       "      <td>\"My son is halfway through his fourth week of ...</td>\n",
       "      <td>8.0</td>\n",
       "      <td>2010-04-27</td>\n",
       "      <td>192</td>\n",
       "    </tr>\n",
       "    <tr>\n",
       "      <th>2</th>\n",
       "      <td>92703</td>\n",
       "      <td>Lybrel</td>\n",
       "      <td>Birth Control</td>\n",
       "      <td>\"I used to take another oral contraceptive, wh...</td>\n",
       "      <td>5.0</td>\n",
       "      <td>2009-12-14</td>\n",
       "      <td>17</td>\n",
       "    </tr>\n",
       "    <tr>\n",
       "      <th>3</th>\n",
       "      <td>138000</td>\n",
       "      <td>Ortho Evra</td>\n",
       "      <td>Birth Control</td>\n",
       "      <td>\"This is my first time using any form of birth...</td>\n",
       "      <td>8.0</td>\n",
       "      <td>2015-11-03</td>\n",
       "      <td>10</td>\n",
       "    </tr>\n",
       "    <tr>\n",
       "      <th>4</th>\n",
       "      <td>35696</td>\n",
       "      <td>Buprenorphine / naloxone</td>\n",
       "      <td>Opiate Dependence</td>\n",
       "      <td>\"Suboxone has completely turned my life around...</td>\n",
       "      <td>9.0</td>\n",
       "      <td>2016-11-27</td>\n",
       "      <td>37</td>\n",
       "    </tr>\n",
       "  </tbody>\n",
       "</table>\n",
       "</div>"
      ],
      "text/plain": [
       "   Unnamed: 0                  drugName                     condition  \\\n",
       "0      206461                 Valsartan  Left Ventricular Dysfunction   \n",
       "1       95260                Guanfacine                          ADHD   \n",
       "2       92703                    Lybrel                 Birth Control   \n",
       "3      138000                Ortho Evra                 Birth Control   \n",
       "4       35696  Buprenorphine / naloxone             Opiate Dependence   \n",
       "\n",
       "                                              review  rating       date  \\\n",
       "0  \"It has no side effect, I take it in combinati...     9.0 2012-05-20   \n",
       "1  \"My son is halfway through his fourth week of ...     8.0 2010-04-27   \n",
       "2  \"I used to take another oral contraceptive, wh...     5.0 2009-12-14   \n",
       "3  \"This is my first time using any form of birth...     8.0 2015-11-03   \n",
       "4  \"Suboxone has completely turned my life around...     9.0 2016-11-27   \n",
       "\n",
       "   usefulCount  \n",
       "0           27  \n",
       "1          192  \n",
       "2           17  \n",
       "3           10  \n",
       "4           37  "
      ]
     },
     "metadata": {},
     "output_type": "display_data"
    },
    {
     "data": {
      "text/html": [
       "<div>\n",
       "<style scoped>\n",
       "    .dataframe tbody tr th:only-of-type {\n",
       "        vertical-align: middle;\n",
       "    }\n",
       "\n",
       "    .dataframe tbody tr th {\n",
       "        vertical-align: top;\n",
       "    }\n",
       "\n",
       "    .dataframe thead th {\n",
       "        text-align: right;\n",
       "    }\n",
       "</style>\n",
       "<table border=\"1\" class=\"dataframe\">\n",
       "  <thead>\n",
       "    <tr style=\"text-align: right;\">\n",
       "      <th></th>\n",
       "      <th>Процент пропусков</th>\n",
       "    </tr>\n",
       "  </thead>\n",
       "  <tbody>\n",
       "    <tr>\n",
       "      <th>condition</th>\n",
       "      <td>0.56</td>\n",
       "    </tr>\n",
       "    <tr>\n",
       "      <th>Unnamed: 0</th>\n",
       "      <td>0.00</td>\n",
       "    </tr>\n",
       "    <tr>\n",
       "      <th>drugName</th>\n",
       "      <td>0.00</td>\n",
       "    </tr>\n",
       "    <tr>\n",
       "      <th>review</th>\n",
       "      <td>0.00</td>\n",
       "    </tr>\n",
       "    <tr>\n",
       "      <th>rating</th>\n",
       "      <td>0.00</td>\n",
       "    </tr>\n",
       "    <tr>\n",
       "      <th>date</th>\n",
       "      <td>0.00</td>\n",
       "    </tr>\n",
       "    <tr>\n",
       "      <th>usefulCount</th>\n",
       "      <td>0.00</td>\n",
       "    </tr>\n",
       "  </tbody>\n",
       "</table>\n",
       "</div>"
      ],
      "text/plain": [
       "             Процент пропусков\n",
       "condition                 0.56\n",
       "Unnamed: 0                0.00\n",
       "drugName                  0.00\n",
       "review                    0.00\n",
       "rating                    0.00\n",
       "date                      0.00\n",
       "usefulCount               0.00"
      ]
     },
     "metadata": {},
     "output_type": "display_data"
    },
    {
     "name": "stdout",
     "output_type": "stream",
     "text": [
      "<class 'pandas.core.frame.DataFrame'>\n",
      "RangeIndex: 161297 entries, 0 to 161296\n",
      "Data columns (total 7 columns):\n",
      " #   Column       Non-Null Count   Dtype         \n",
      "---  ------       --------------   -----         \n",
      " 0   Unnamed: 0   161297 non-null  int64         \n",
      " 1   drugName     161297 non-null  object        \n",
      " 2   condition    160398 non-null  object        \n",
      " 3   review       161297 non-null  object        \n",
      " 4   rating       161297 non-null  float64       \n",
      " 5   date         161297 non-null  datetime64[ns]\n",
      " 6   usefulCount  161297 non-null  int64         \n",
      "dtypes: datetime64[ns](1), float64(1), int64(2), object(3)\n",
      "memory usage: 8.6+ MB\n"
     ]
    }
   ],
   "source": [
    "drugs_data = check_dataset('./datasets/drugsComTrain_raw.tsv')"
   ]
  },
  {
   "cell_type": "markdown",
   "id": "bfbdaf71",
   "metadata": {},
   "source": [
    "При загрузки датасета признак `uniqueID` был загружен как `\tUnnamed: 0`, дата была переведена в формат datetime64. В датасете наблюдается 0.56% пропусков в столбце с местом применения `condition`. "
   ]
  },
  {
   "cell_type": "code",
   "execution_count": 32,
   "id": "9eec9f20",
   "metadata": {},
   "outputs": [
    {
     "data": {
      "text/html": [
       "<div>\n",
       "<style scoped>\n",
       "    .dataframe tbody tr th:only-of-type {\n",
       "        vertical-align: middle;\n",
       "    }\n",
       "\n",
       "    .dataframe tbody tr th {\n",
       "        vertical-align: top;\n",
       "    }\n",
       "\n",
       "    .dataframe thead th {\n",
       "        text-align: right;\n",
       "    }\n",
       "</style>\n",
       "<table border=\"1\" class=\"dataframe\">\n",
       "  <thead>\n",
       "    <tr style=\"text-align: right;\">\n",
       "      <th></th>\n",
       "      <th>Unnamed: 0</th>\n",
       "      <th>drugName</th>\n",
       "      <th>condition</th>\n",
       "      <th>review</th>\n",
       "      <th>rating</th>\n",
       "      <th>date</th>\n",
       "      <th>usefulCount</th>\n",
       "    </tr>\n",
       "  </thead>\n",
       "  <tbody>\n",
       "    <tr>\n",
       "      <th>0</th>\n",
       "      <td>163740</td>\n",
       "      <td>Mirtazapine</td>\n",
       "      <td>Depression</td>\n",
       "      <td>\"I&amp;#039;ve tried a few antidepressants over th...</td>\n",
       "      <td>10.0</td>\n",
       "      <td>2012-02-28</td>\n",
       "      <td>22</td>\n",
       "    </tr>\n",
       "    <tr>\n",
       "      <th>1</th>\n",
       "      <td>206473</td>\n",
       "      <td>Mesalamine</td>\n",
       "      <td>Crohn's Disease, Maintenance</td>\n",
       "      <td>\"My son has Crohn&amp;#039;s disease and has done ...</td>\n",
       "      <td>8.0</td>\n",
       "      <td>2009-05-17</td>\n",
       "      <td>17</td>\n",
       "    </tr>\n",
       "    <tr>\n",
       "      <th>2</th>\n",
       "      <td>159672</td>\n",
       "      <td>Bactrim</td>\n",
       "      <td>Urinary Tract Infection</td>\n",
       "      <td>\"Quick reduction of symptoms\"</td>\n",
       "      <td>9.0</td>\n",
       "      <td>2017-09-29</td>\n",
       "      <td>3</td>\n",
       "    </tr>\n",
       "    <tr>\n",
       "      <th>3</th>\n",
       "      <td>39293</td>\n",
       "      <td>Contrave</td>\n",
       "      <td>Weight Loss</td>\n",
       "      <td>\"Contrave combines drugs that were used for al...</td>\n",
       "      <td>9.0</td>\n",
       "      <td>2017-03-05</td>\n",
       "      <td>35</td>\n",
       "    </tr>\n",
       "    <tr>\n",
       "      <th>4</th>\n",
       "      <td>97768</td>\n",
       "      <td>Cyclafem 1 / 35</td>\n",
       "      <td>Birth Control</td>\n",
       "      <td>\"I have been on this birth control for one cyc...</td>\n",
       "      <td>9.0</td>\n",
       "      <td>2015-10-22</td>\n",
       "      <td>4</td>\n",
       "    </tr>\n",
       "  </tbody>\n",
       "</table>\n",
       "</div>"
      ],
      "text/plain": [
       "   Unnamed: 0         drugName                     condition  \\\n",
       "0      163740      Mirtazapine                    Depression   \n",
       "1      206473       Mesalamine  Crohn's Disease, Maintenance   \n",
       "2      159672          Bactrim       Urinary Tract Infection   \n",
       "3       39293         Contrave                   Weight Loss   \n",
       "4       97768  Cyclafem 1 / 35                 Birth Control   \n",
       "\n",
       "                                              review  rating       date  \\\n",
       "0  \"I&#039;ve tried a few antidepressants over th...    10.0 2012-02-28   \n",
       "1  \"My son has Crohn&#039;s disease and has done ...     8.0 2009-05-17   \n",
       "2                      \"Quick reduction of symptoms\"     9.0 2017-09-29   \n",
       "3  \"Contrave combines drugs that were used for al...     9.0 2017-03-05   \n",
       "4  \"I have been on this birth control for one cyc...     9.0 2015-10-22   \n",
       "\n",
       "   usefulCount  \n",
       "0           22  \n",
       "1           17  \n",
       "2            3  \n",
       "3           35  \n",
       "4            4  "
      ]
     },
     "metadata": {},
     "output_type": "display_data"
    },
    {
     "data": {
      "text/html": [
       "<div>\n",
       "<style scoped>\n",
       "    .dataframe tbody tr th:only-of-type {\n",
       "        vertical-align: middle;\n",
       "    }\n",
       "\n",
       "    .dataframe tbody tr th {\n",
       "        vertical-align: top;\n",
       "    }\n",
       "\n",
       "    .dataframe thead th {\n",
       "        text-align: right;\n",
       "    }\n",
       "</style>\n",
       "<table border=\"1\" class=\"dataframe\">\n",
       "  <thead>\n",
       "    <tr style=\"text-align: right;\">\n",
       "      <th></th>\n",
       "      <th>Процент пропусков</th>\n",
       "    </tr>\n",
       "  </thead>\n",
       "  <tbody>\n",
       "    <tr>\n",
       "      <th>condition</th>\n",
       "      <td>0.55</td>\n",
       "    </tr>\n",
       "    <tr>\n",
       "      <th>Unnamed: 0</th>\n",
       "      <td>0.00</td>\n",
       "    </tr>\n",
       "    <tr>\n",
       "      <th>drugName</th>\n",
       "      <td>0.00</td>\n",
       "    </tr>\n",
       "    <tr>\n",
       "      <th>review</th>\n",
       "      <td>0.00</td>\n",
       "    </tr>\n",
       "    <tr>\n",
       "      <th>rating</th>\n",
       "      <td>0.00</td>\n",
       "    </tr>\n",
       "    <tr>\n",
       "      <th>date</th>\n",
       "      <td>0.00</td>\n",
       "    </tr>\n",
       "    <tr>\n",
       "      <th>usefulCount</th>\n",
       "      <td>0.00</td>\n",
       "    </tr>\n",
       "  </tbody>\n",
       "</table>\n",
       "</div>"
      ],
      "text/plain": [
       "             Процент пропусков\n",
       "condition                 0.55\n",
       "Unnamed: 0                0.00\n",
       "drugName                  0.00\n",
       "review                    0.00\n",
       "rating                    0.00\n",
       "date                      0.00\n",
       "usefulCount               0.00"
      ]
     },
     "metadata": {},
     "output_type": "display_data"
    },
    {
     "name": "stdout",
     "output_type": "stream",
     "text": [
      "<class 'pandas.core.frame.DataFrame'>\n",
      "RangeIndex: 53766 entries, 0 to 53765\n",
      "Data columns (total 7 columns):\n",
      " #   Column       Non-Null Count  Dtype         \n",
      "---  ------       --------------  -----         \n",
      " 0   Unnamed: 0   53766 non-null  int64         \n",
      " 1   drugName     53766 non-null  object        \n",
      " 2   condition    53471 non-null  object        \n",
      " 3   review       53766 non-null  object        \n",
      " 4   rating       53766 non-null  float64       \n",
      " 5   date         53766 non-null  datetime64[ns]\n",
      " 6   usefulCount  53766 non-null  int64         \n",
      "dtypes: datetime64[ns](1), float64(1), int64(2), object(3)\n",
      "memory usage: 2.9+ MB\n"
     ]
    }
   ],
   "source": [
    "drugs_data_test = check_dataset('./datasets/drugsComTest_raw.tsv')"
   ]
  },
  {
   "cell_type": "markdown",
   "id": "82e9ae09",
   "metadata": {},
   "source": [
    "В отзывах на лекарства наблюдается спец-символ *\\&#039;*, который является апострофом ('). В датасете наблюдается 0.55% пропусков в столбце с местом применения `condition`. "
   ]
  },
  {
   "cell_type": "markdown",
   "id": "bcce7f6d",
   "metadata": {},
   "source": [
    "### Предобработка данных"
   ]
  },
  {
   "cell_type": "code",
   "execution_count": 33,
   "id": "24afd084",
   "metadata": {},
   "outputs": [],
   "source": [
    "drugs_data.rename({'Unnamed: 0':'id'}, axis=1, inplace=True)\n",
    "drugs_data_test.rename({'Unnamed: 0':'id'}, axis=1, inplace=True)"
   ]
  },
  {
   "cell_type": "markdown",
   "id": "88fb17d7",
   "metadata": {},
   "source": [
    "Название колонки уникального идентификатора пользователя было переименовано в `id`."
   ]
  },
  {
   "cell_type": "code",
   "execution_count": 34,
   "id": "12aafdfb",
   "metadata": {},
   "outputs": [
    {
     "data": {
      "text/plain": [
       "np.int64(0)"
      ]
     },
     "execution_count": 34,
     "metadata": {},
     "output_type": "execute_result"
    }
   ],
   "source": [
    "drugs_data.duplicated(subset=[\"id\"]).sum()"
   ]
  },
  {
   "cell_type": "markdown",
   "id": "b8105308",
   "metadata": {},
   "source": [
    "В тренировочном датасете отсутствуют неявные дубликаты."
   ]
  },
  {
   "cell_type": "code",
   "execution_count": 35,
   "id": "33bc9187",
   "metadata": {},
   "outputs": [],
   "source": [
    "drugs_data.dropna(axis=0, inplace=True)"
   ]
  },
  {
   "cell_type": "markdown",
   "id": "9e8da821",
   "metadata": {},
   "source": [
    "Наблюдения с пропусками в признаке `condition` были удалены."
   ]
  },
  {
   "cell_type": "code",
   "execution_count": 36,
   "id": "566bfba6",
   "metadata": {},
   "outputs": [
    {
     "name": "stdout",
     "output_type": "stream",
     "text": [
      "\"When I went to the doctor and told him Linzess 290 mg wasn&#039;t working for me ( I was lucky to go once a week).,He said I want to try you on Amitiza. He said this should help. Well I have been on it for 3 days and nothing!! I got a headache &amp; chest pain the first day and only headaches on the second and third day. I can&#039;t understand why the doctors can&#039;t find out the underlying problem. I have tried everything!! I use to take Zelnorm but, they took that off the market. I don&#039;t care for this drug! My stomach makes noises and that&#039;s it!! I am still miserable!!\"\n",
      "\n",
      "\"Very interesting drug. I was prescribed Zolpidem by my psychiatrist but found that it did not work (later determined because of other psychological problems) however I still took it every night. I found that I started doing things I would never do normally. I went for walks at 3:00 am, fully cognitive, came home put my shoes away, hung up my clothes, and watched TV for a few hours. I felt perfectly normal, but my wife started questioning me about what I was saying to her (never violent). She said that my conversations always made sense, but they were so out of the blue. Sometimes I remembered them, sometimes I didn&#039;t. If this drug does not work immediately, don&#039;t take it.\"\n",
      "\n",
      "\"Very nauseous, hope hair does not fall out\"\n",
      "\n",
      "\"Lifelong rhinitis, worse with age (now 71).  Tried Flonase, did nothing and unpleasant to use.  Bought Nasacort generic  would last 2 months @ 1shot/nostril/day.  Immediate improvement, no flavor or sting.  Already familiar with triamcinolone (active) as a topical (skin).  Only downrated to 9 because 1) it&#039;s a drug and fewer is better, 2) it doesn&#039;t &#039;blast&#039; nose wide open like Afrin (which causes its own problems), 3) from other reviews we see that results/reactions vary widely.  On the plus side: If it works for you, fewest potential side effects; no alcohol or scent; generic/storebrand available-- reasonable cost; OTC designation, &#039;generally safe and effective for self-administrataion.  Lookup and observe contraindications\"\n",
      "\n",
      "\"This medication has been very effective by almost eliminating my daily pain. When I do experience headache, jaw and neck pain, it&#039;s now usually milder than before and easily treated with a pain reliever. \n",
      "\n",
      "Additional benefits include helping me fall asleep easier and reducing the symptoms of a serious sleep disorder.\n",
      "\n",
      "The only negative side effect directly related to this med has been severe thirst requiring me to drink water and urinate very frequently. However this annoying and inconvenient side effect is well worth it.  I&#039;m also at high risk for angle closure, but am unsure if it&#039;s related.\n",
      "\n",
      "I lived with chronic pain from my mid 20s through my late 30s before starting this medication. I only wish I started taking it earlier in life.\"\n",
      "\n"
     ]
    }
   ],
   "source": [
    "lst_idx = np.random.randint(0, len(drugs_data), 5)\n",
    "\n",
    "for i in (lst_idx):\n",
    "    print(drugs_data['review'][i])\n",
    "    print()"
   ]
  },
  {
   "cell_type": "markdown",
   "id": "20e4650d",
   "metadata": {},
   "source": [
    "В отзывах наблюдается специальный символ *\\&#039;*. Также имеются повторяющиеся пробелы."
   ]
  },
  {
   "cell_type": "code",
   "execution_count": 37,
   "id": "7b902b65",
   "metadata": {},
   "outputs": [],
   "source": [
    "# Функция для очистки отзывов пользователей\n",
    "def get_clean_text(row_review):\n",
    "    row_review = row_review.replace('&#039;', \"'\")\n",
    "    row_review = re.sub(r'[(),.!?@\\\\;\"]', '', row_review)\n",
    "    row_review = re.sub(r'[/-]', ' ', row_review)\n",
    "    row_review = re.sub(r'\\s+', ' ', row_review)\n",
    "    return row_review.lower()"
   ]
  },
  {
   "cell_type": "code",
   "execution_count": 38,
   "id": "4b9b8a70",
   "metadata": {},
   "outputs": [],
   "source": [
    "drugs_data['review'] = drugs_data['review'].apply(get_clean_text)\n",
    "drugs_data_test['review'] = drugs_data_test['review'].apply(get_clean_text)"
   ]
  },
  {
   "cell_type": "markdown",
   "id": "5e0478a9",
   "metadata": {},
   "source": [
    "Отзывы тренировочного и тестового датасетов были предобработаны. Специальный символ изменен на апостроф. Скобки, знаки препинания и повторяющиеся пробелы были удалены."
   ]
  },
  {
   "cell_type": "code",
   "execution_count": 39,
   "id": "6437b081",
   "metadata": {},
   "outputs": [
    {
     "name": "stdout",
     "output_type": "stream",
     "text": [
      "when i went to the doctor and told him linzess 290 mg wasn't working for me i was lucky to go once a weekhe said i want to try you on amitiza he said this should help well i have been on it for 3 days and nothing i got a headache &amp chest pain the first day and only headaches on the second and third day i can't understand why the doctors can't find out the underlying problem i have tried everything i use to take zelnorm but they took that off the market i don't care for this drug my stomach makes noises and that's it i am still miserable\n",
      "\n",
      "very interesting drug i was prescribed zolpidem by my psychiatrist but found that it did not work later determined because of other psychological problems however i still took it every night i found that i started doing things i would never do normally i went for walks at 3:00 am fully cognitive came home put my shoes away hung up my clothes and watched tv for a few hours i felt perfectly normal but my wife started questioning me about what i was saying to her never violent she said that my conversations always made sense but they were so out of the blue sometimes i remembered them sometimes i didn't if this drug does not work immediately don't take it\n",
      "\n",
      "very nauseous hope hair does not fall out\n",
      "\n",
      "lifelong rhinitis worse with age now 71 tried flonase did nothing and unpleasant to use bought nasacort generic would last 2 months 1shot nostril day immediate improvement no flavor or sting already familiar with triamcinolone active as a topical skin only downrated to 9 because 1 it's a drug and fewer is better 2 it doesn't 'blast' nose wide open like afrin which causes its own problems 3 from other reviews we see that results reactions vary widely on the plus side: if it works for you fewest potential side effects no alcohol or scent generic storebrand available reasonable cost otc designation 'generally safe and effective for self administrataion lookup and observe contraindications\n",
      "\n",
      "this medication has been very effective by almost eliminating my daily pain when i do experience headache jaw and neck pain it's now usually milder than before and easily treated with a pain reliever additional benefits include helping me fall asleep easier and reducing the symptoms of a serious sleep disorder the only negative side effect directly related to this med has been severe thirst requiring me to drink water and urinate very frequently however this annoying and inconvenient side effect is well worth it i'm also at high risk for angle closure but am unsure if it's related i lived with chronic pain from my mid 20s through my late 30s before starting this medication i only wish i started taking it earlier in life\n",
      "\n"
     ]
    }
   ],
   "source": [
    "for i in (lst_idx):\n",
    "    print(drugs_data['review'][i])\n",
    "    print()"
   ]
  },
  {
   "cell_type": "markdown",
   "id": "f43aab38",
   "metadata": {},
   "source": [
    "### Исследовательский анализ"
   ]
  },
  {
   "cell_type": "code",
   "execution_count": 40,
   "id": "887a7fd6",
   "metadata": {},
   "outputs": [
    {
     "data": {
      "text/html": [
       "<div>\n",
       "<style scoped>\n",
       "    .dataframe tbody tr th:only-of-type {\n",
       "        vertical-align: middle;\n",
       "    }\n",
       "\n",
       "    .dataframe tbody tr th {\n",
       "        vertical-align: top;\n",
       "    }\n",
       "\n",
       "    .dataframe thead th {\n",
       "        text-align: right;\n",
       "    }\n",
       "</style>\n",
       "<table border=\"1\" class=\"dataframe\">\n",
       "  <thead>\n",
       "    <tr style=\"text-align: right;\">\n",
       "      <th></th>\n",
       "      <th>rating</th>\n",
       "      <th>date</th>\n",
       "      <th>usefulCount</th>\n",
       "    </tr>\n",
       "  </thead>\n",
       "  <tbody>\n",
       "    <tr>\n",
       "      <th>count</th>\n",
       "      <td>160398.000000</td>\n",
       "      <td>160398</td>\n",
       "      <td>160398.000000</td>\n",
       "    </tr>\n",
       "    <tr>\n",
       "      <th>mean</th>\n",
       "      <td>6.995923</td>\n",
       "      <td>2014-06-15 18:14:26.973403904</td>\n",
       "      <td>28.097613</td>\n",
       "    </tr>\n",
       "    <tr>\n",
       "      <th>min</th>\n",
       "      <td>1.000000</td>\n",
       "      <td>2008-02-24 00:00:00</td>\n",
       "      <td>0.000000</td>\n",
       "    </tr>\n",
       "    <tr>\n",
       "      <th>25%</th>\n",
       "      <td>5.000000</td>\n",
       "      <td>2012-04-21 00:00:00</td>\n",
       "      <td>6.000000</td>\n",
       "    </tr>\n",
       "    <tr>\n",
       "      <th>50%</th>\n",
       "      <td>8.000000</td>\n",
       "      <td>2015-06-13 00:00:00</td>\n",
       "      <td>16.000000</td>\n",
       "    </tr>\n",
       "    <tr>\n",
       "      <th>75%</th>\n",
       "      <td>10.000000</td>\n",
       "      <td>2016-08-20 00:00:00</td>\n",
       "      <td>36.000000</td>\n",
       "    </tr>\n",
       "    <tr>\n",
       "      <th>max</th>\n",
       "      <td>10.000000</td>\n",
       "      <td>2017-12-12 00:00:00</td>\n",
       "      <td>1291.000000</td>\n",
       "    </tr>\n",
       "    <tr>\n",
       "      <th>std</th>\n",
       "      <td>3.272303</td>\n",
       "      <td>NaN</td>\n",
       "      <td>36.457876</td>\n",
       "    </tr>\n",
       "  </tbody>\n",
       "</table>\n",
       "</div>"
      ],
      "text/plain": [
       "              rating                           date    usefulCount\n",
       "count  160398.000000                         160398  160398.000000\n",
       "mean        6.995923  2014-06-15 18:14:26.973403904      28.097613\n",
       "min         1.000000            2008-02-24 00:00:00       0.000000\n",
       "25%         5.000000            2012-04-21 00:00:00       6.000000\n",
       "50%         8.000000            2015-06-13 00:00:00      16.000000\n",
       "75%        10.000000            2016-08-20 00:00:00      36.000000\n",
       "max        10.000000            2017-12-12 00:00:00    1291.000000\n",
       "std         3.272303                            NaN      36.457876"
      ]
     },
     "execution_count": 40,
     "metadata": {},
     "output_type": "execute_result"
    }
   ],
   "source": [
    "drugs_data.iloc[:, 1:].describe()"
   ]
  },
  {
   "cell_type": "markdown",
   "id": "c3bc61cc",
   "metadata": {},
   "source": [
    "Данные были собраны в период с 2008 по 2017 год. Большинство отзывов пользователей содержат от 6 до 36 корректных оценок. "
   ]
  },
  {
   "cell_type": "code",
   "execution_count": 41,
   "id": "0b9f9b66",
   "metadata": {},
   "outputs": [
    {
     "data": {
      "image/png": "[encoded data removed]",
      "text/plain": [
       "<Figure size 1200x600 with 1 Axes>"
      ]
     },
     "metadata": {},
     "output_type": "display_data"
    }
   ],
   "source": [
    "plt.figure(figsize=(12, 6))\n",
    "plt.title('График частоты рейтинга')\n",
    "\n",
    "sns.countplot(data=drugs_data, x='rating')\n",
    "plt.ylabel('частота')\n",
    "plt.show()"
   ]
  },
  {
   "cell_type": "markdown",
   "id": "f1373a58",
   "metadata": {},
   "source": [
    "Медианное значение рейтинга составляет 8 баллов, что указывает на преобладание положительных оценок — отзывы с рейтингами, близкими к 10, встречаются чаще всего. Среди рейтингов менее 5 баллов, чаще всего встречается 1 балл."
   ]
  },
  {
   "cell_type": "code",
   "execution_count": 42,
   "id": "0d39f123",
   "metadata": {},
   "outputs": [],
   "source": [
    "# Функция для оценки распределения слов в отзовах\n",
    "def get_stats_hist(df, clm):\n",
    "    plt.figure(figsize=(12, 6))\n",
    "\n",
    "    len_token = df[clm].apply(lambda x: len(x.split()))\n",
    "    plt.title('Распределение количества слов, содержащихся в отзовах')\n",
    "    sns.kdeplot(data=len_token, bw_method=0.1)\n",
    "\n",
    "    plt.ylabel('частота')\n",
    "    plt.xlabel('количество слов в отзове')\n",
    "    plt.show()"
   ]
  },
  {
   "cell_type": "code",
   "execution_count": 43,
   "id": "2c8190ae",
   "metadata": {},
   "outputs": [
    {
     "data": {
      "image/png": "[encoded data removed]",
      "text/plain": [
       "<Figure size 1200x600 with 1 Axes>"
      ]
     },
     "metadata": {},
     "output_type": "display_data"
    }
   ],
   "source": [
    "get_stats_hist(drugs_data, 'review')"
   ]
  },
  {
   "cell_type": "markdown",
   "id": "cb1efa93",
   "metadata": {},
   "source": [
    "Чаще всего отзывы содержат до 250 слов. Бывают очень большие отзывы, стоит применить суммаризацию для усечения текста и сохранения контекста."
   ]
  },
  {
   "cell_type": "code",
   "execution_count": 45,
   "id": "4ef46cd0",
   "metadata": {},
   "outputs": [],
   "source": [
    "summarizer = pipeline(\"summarization\", model=\"allenai/led-base-16384\")"
   ]
  },
  {
   "cell_type": "code",
   "execution_count": 46,
   "id": "b1e19f0c",
   "metadata": {},
   "outputs": [],
   "source": [
    "def set_summarization_text(data, clm):\n",
    "    df = data[data[clm].apply(lambda x: len(x.split())) > 180].copy()\n",
    "\n",
    "    summaries = []\n",
    "    for text in tqdm(df[clm], desc=\"Уменьшение длины текста\"):\n",
    "        summary = summarizer(text, max_length=100, min_length=5)[0]['summary_text']\n",
    "        summaries.append(summary)\n",
    "\n",
    "    data.loc[df.index, clm] = summaries"
   ]
  },
  {
   "cell_type": "code",
   "execution_count": 48,
   "id": "0b9561a0",
   "metadata": {},
   "outputs": [
    {
     "name": "stderr",
     "output_type": "stream",
     "text": [
      "Уменьшение длины текста: 100%|██████████| 341/341 [01:42<00:00,  3.32it/s]\n"
     ]
    }
   ],
   "source": [
    "set_summarization_text(drugs_data, 'review')"
   ]
  },
  {
   "cell_type": "code",
   "execution_count": 49,
   "id": "1e477bed",
   "metadata": {},
   "outputs": [
    {
     "data": {
      "image/png": "[encoded data removed]",
      "text/plain": [
       "<Figure size 1200x600 with 1 Axes>"
      ]
     },
     "metadata": {},
     "output_type": "display_data"
    }
   ],
   "source": [
    "get_stats_hist(drugs_data, 'review')"
   ]
  },
  {
   "cell_type": "code",
   "execution_count": null,
   "id": "66c54e55",
   "metadata": {},
   "outputs": [],
   "source": []
  }
 ],
 "metadata": {
  "kernelspec": {
   "display_name": "myenv",
   "language": "python",
   "name": "python3"
  },
  "language_info": {
   "codemirror_mode": {
    "name": "ipython",
    "version": 3
   },
   "file_extension": ".py",
   "mimetype": "text/x-python",
   "name": "python",
   "nbconvert_exporter": "python",
   "pygments_lexer": "ipython3",
   "version": "3.12.7"
  }
 },
 "nbformat": 4,
 "nbformat_minor": 5
}
