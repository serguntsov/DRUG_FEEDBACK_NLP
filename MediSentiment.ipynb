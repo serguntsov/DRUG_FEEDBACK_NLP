{
 "cells": [
  {
   "cell_type": "markdown",
   "id": "6b7ed270",
   "metadata": {},
   "source": [
    "### <h2 style=\"font-size: 40px;\">Состояние пациента по отзыву на лекарство</h2>"
   ]
  },
  {
   "cell_type": "code",
   "execution_count": 46,
   "id": "c387f458",
   "metadata": {},
   "outputs": [],
   "source": [
    "import pandas as pd\n",
    "import numpy as np\n",
    "import os\n",
    "import matplotlib.pyplot as plt\n",
    "import seaborn as sns\n",
    "import re\n",
    "import torch"
   ]
  },
  {
   "cell_type": "markdown",
   "id": "a6f767a7",
   "metadata": {},
   "source": [
    "#### Техническое задание\n",
    "\n"
   ]
  },
  {
   "cell_type": "markdown",
   "id": "8aa6faf0",
   "metadata": {},
   "source": [
    "#### Описание данных\n",
    "\n",
    "- `uniqueID` - уникальный идентификатор пользователя\n",
    "- `drugName` - \tназвание лекарственного средства\n",
    "- `condition` - место применения\n",
    "- `review` - отзыв пользователя \n",
    "- `rating` - рейтинг пациента на 10 звезд\n",
    "- `date` - дата публикации отзыва\n",
    "- `usefulCount` - количество пользователей, которые сочли отзыв корректным"
   ]
  },
  {
   "cell_type": "markdown",
   "id": "2adfb08c",
   "metadata": {},
   "source": [
    "### Загрузка данных"
   ]
  },
  {
   "cell_type": "code",
   "execution_count": 47,
   "id": "b6e24bcc",
   "metadata": {},
   "outputs": [],
   "source": [
    "# Загрузка и распаковка датасетов\n",
    "\n",
    "#!wget \"https://archive.ics.uci.edu/ml/machine-learning-databases/00462/drugsCom_raw.zip\"\n",
    "#!unzip drugsCom_raw.zip -d ./datasets/\n",
    "#!rm drugsCom_raw.zip"
   ]
  },
  {
   "cell_type": "code",
   "execution_count": 48,
   "id": "4313ab14",
   "metadata": {},
   "outputs": [],
   "source": [
    "# Функция для быстрого ознакомления и парсинга таблицы\n",
    "def parse_dataset(path):\n",
    "    df = pd.read_csv(path, sep='\\t', parse_dates=['date'])\n",
    "    display(df.head())\n",
    "\n",
    "    display(round(df.isna().mean() * 100, 2).sort_values(ascending=False).to_frame(name='Процент пропусков'))\n",
    "\n",
    "    df.info()\n",
    "    return df\n",
    "\n",
    "\n",
    "# Функция для проверки наличия файла\n",
    "def check_dataset(path):    \n",
    "    if os.path.exists(path):\n",
    "        return parse_dataset(path)\n",
    "    else:\n",
    "        print('Неправильный путь к файлу')"
   ]
  },
  {
   "cell_type": "code",
   "execution_count": 49,
   "id": "997c7372",
   "metadata": {},
   "outputs": [
    {
     "data": {
      "text/html": [
       "<div>\n",
       "<style scoped>\n",
       "    .dataframe tbody tr th:only-of-type {\n",
       "        vertical-align: middle;\n",
       "    }\n",
       "\n",
       "    .dataframe tbody tr th {\n",
       "        vertical-align: top;\n",
       "    }\n",
       "\n",
       "    .dataframe thead th {\n",
       "        text-align: right;\n",
       "    }\n",
       "</style>\n",
       "<table border=\"1\" class=\"dataframe\">\n",
       "  <thead>\n",
       "    <tr style=\"text-align: right;\">\n",
       "      <th></th>\n",
       "      <th>Unnamed: 0</th>\n",
       "      <th>drugName</th>\n",
       "      <th>condition</th>\n",
       "      <th>review</th>\n",
       "      <th>rating</th>\n",
       "      <th>date</th>\n",
       "      <th>usefulCount</th>\n",
       "    </tr>\n",
       "  </thead>\n",
       "  <tbody>\n",
       "    <tr>\n",
       "      <th>0</th>\n",
       "      <td>206461</td>\n",
       "      <td>Valsartan</td>\n",
       "      <td>Left Ventricular Dysfunction</td>\n",
       "      <td>\"It has no side effect, I take it in combinati...</td>\n",
       "      <td>9.0</td>\n",
       "      <td>2012-05-20</td>\n",
       "      <td>27</td>\n",
       "    </tr>\n",
       "    <tr>\n",
       "      <th>1</th>\n",
       "      <td>95260</td>\n",
       "      <td>Guanfacine</td>\n",
       "      <td>ADHD</td>\n",
       "      <td>\"My son is halfway through his fourth week of ...</td>\n",
       "      <td>8.0</td>\n",
       "      <td>2010-04-27</td>\n",
       "      <td>192</td>\n",
       "    </tr>\n",
       "    <tr>\n",
       "      <th>2</th>\n",
       "      <td>92703</td>\n",
       "      <td>Lybrel</td>\n",
       "      <td>Birth Control</td>\n",
       "      <td>\"I used to take another oral contraceptive, wh...</td>\n",
       "      <td>5.0</td>\n",
       "      <td>2009-12-14</td>\n",
       "      <td>17</td>\n",
       "    </tr>\n",
       "    <tr>\n",
       "      <th>3</th>\n",
       "      <td>138000</td>\n",
       "      <td>Ortho Evra</td>\n",
       "      <td>Birth Control</td>\n",
       "      <td>\"This is my first time using any form of birth...</td>\n",
       "      <td>8.0</td>\n",
       "      <td>2015-11-03</td>\n",
       "      <td>10</td>\n",
       "    </tr>\n",
       "    <tr>\n",
       "      <th>4</th>\n",
       "      <td>35696</td>\n",
       "      <td>Buprenorphine / naloxone</td>\n",
       "      <td>Opiate Dependence</td>\n",
       "      <td>\"Suboxone has completely turned my life around...</td>\n",
       "      <td>9.0</td>\n",
       "      <td>2016-11-27</td>\n",
       "      <td>37</td>\n",
       "    </tr>\n",
       "  </tbody>\n",
       "</table>\n",
       "</div>"
      ],
      "text/plain": [
       "   Unnamed: 0                  drugName                     condition  \\\n",
       "0      206461                 Valsartan  Left Ventricular Dysfunction   \n",
       "1       95260                Guanfacine                          ADHD   \n",
       "2       92703                    Lybrel                 Birth Control   \n",
       "3      138000                Ortho Evra                 Birth Control   \n",
       "4       35696  Buprenorphine / naloxone             Opiate Dependence   \n",
       "\n",
       "                                              review  rating       date  \\\n",
       "0  \"It has no side effect, I take it in combinati...     9.0 2012-05-20   \n",
       "1  \"My son is halfway through his fourth week of ...     8.0 2010-04-27   \n",
       "2  \"I used to take another oral contraceptive, wh...     5.0 2009-12-14   \n",
       "3  \"This is my first time using any form of birth...     8.0 2015-11-03   \n",
       "4  \"Suboxone has completely turned my life around...     9.0 2016-11-27   \n",
       "\n",
       "   usefulCount  \n",
       "0           27  \n",
       "1          192  \n",
       "2           17  \n",
       "3           10  \n",
       "4           37  "
      ]
     },
     "metadata": {},
     "output_type": "display_data"
    },
    {
     "data": {
      "text/html": [
       "<div>\n",
       "<style scoped>\n",
       "    .dataframe tbody tr th:only-of-type {\n",
       "        vertical-align: middle;\n",
       "    }\n",
       "\n",
       "    .dataframe tbody tr th {\n",
       "        vertical-align: top;\n",
       "    }\n",
       "\n",
       "    .dataframe thead th {\n",
       "        text-align: right;\n",
       "    }\n",
       "</style>\n",
       "<table border=\"1\" class=\"dataframe\">\n",
       "  <thead>\n",
       "    <tr style=\"text-align: right;\">\n",
       "      <th></th>\n",
       "      <th>Процент пропусков</th>\n",
       "    </tr>\n",
       "  </thead>\n",
       "  <tbody>\n",
       "    <tr>\n",
       "      <th>condition</th>\n",
       "      <td>0.56</td>\n",
       "    </tr>\n",
       "    <tr>\n",
       "      <th>Unnamed: 0</th>\n",
       "      <td>0.00</td>\n",
       "    </tr>\n",
       "    <tr>\n",
       "      <th>drugName</th>\n",
       "      <td>0.00</td>\n",
       "    </tr>\n",
       "    <tr>\n",
       "      <th>review</th>\n",
       "      <td>0.00</td>\n",
       "    </tr>\n",
       "    <tr>\n",
       "      <th>rating</th>\n",
       "      <td>0.00</td>\n",
       "    </tr>\n",
       "    <tr>\n",
       "      <th>date</th>\n",
       "      <td>0.00</td>\n",
       "    </tr>\n",
       "    <tr>\n",
       "      <th>usefulCount</th>\n",
       "      <td>0.00</td>\n",
       "    </tr>\n",
       "  </tbody>\n",
       "</table>\n",
       "</div>"
      ],
      "text/plain": [
       "             Процент пропусков\n",
       "condition                 0.56\n",
       "Unnamed: 0                0.00\n",
       "drugName                  0.00\n",
       "review                    0.00\n",
       "rating                    0.00\n",
       "date                      0.00\n",
       "usefulCount               0.00"
      ]
     },
     "metadata": {},
     "output_type": "display_data"
    },
    {
     "name": "stdout",
     "output_type": "stream",
     "text": [
      "<class 'pandas.core.frame.DataFrame'>\n",
      "RangeIndex: 161297 entries, 0 to 161296\n",
      "Data columns (total 7 columns):\n",
      " #   Column       Non-Null Count   Dtype         \n",
      "---  ------       --------------   -----         \n",
      " 0   Unnamed: 0   161297 non-null  int64         \n",
      " 1   drugName     161297 non-null  object        \n",
      " 2   condition    160398 non-null  object        \n",
      " 3   review       161297 non-null  object        \n",
      " 4   rating       161297 non-null  float64       \n",
      " 5   date         161297 non-null  datetime64[ns]\n",
      " 6   usefulCount  161297 non-null  int64         \n",
      "dtypes: datetime64[ns](1), float64(1), int64(2), object(3)\n",
      "memory usage: 8.6+ MB\n"
     ]
    }
   ],
   "source": [
    "drugs_data = check_dataset('./datasets/drugsComTrain_raw.tsv')"
   ]
  },
  {
   "cell_type": "markdown",
   "id": "bfbdaf71",
   "metadata": {},
   "source": [
    "При загрузки датасета признак `uniqueID` был загружен как `\tUnnamed: 0`, дата была переведена в формат datetime64. В датасете наблюдается 0.56% пропусков в столбце с местом применения `condition`. "
   ]
  },
  {
   "cell_type": "code",
   "execution_count": 50,
   "id": "9eec9f20",
   "metadata": {},
   "outputs": [
    {
     "data": {
      "text/html": [
       "<div>\n",
       "<style scoped>\n",
       "    .dataframe tbody tr th:only-of-type {\n",
       "        vertical-align: middle;\n",
       "    }\n",
       "\n",
       "    .dataframe tbody tr th {\n",
       "        vertical-align: top;\n",
       "    }\n",
       "\n",
       "    .dataframe thead th {\n",
       "        text-align: right;\n",
       "    }\n",
       "</style>\n",
       "<table border=\"1\" class=\"dataframe\">\n",
       "  <thead>\n",
       "    <tr style=\"text-align: right;\">\n",
       "      <th></th>\n",
       "      <th>Unnamed: 0</th>\n",
       "      <th>drugName</th>\n",
       "      <th>condition</th>\n",
       "      <th>review</th>\n",
       "      <th>rating</th>\n",
       "      <th>date</th>\n",
       "      <th>usefulCount</th>\n",
       "    </tr>\n",
       "  </thead>\n",
       "  <tbody>\n",
       "    <tr>\n",
       "      <th>0</th>\n",
       "      <td>163740</td>\n",
       "      <td>Mirtazapine</td>\n",
       "      <td>Depression</td>\n",
       "      <td>\"I&amp;#039;ve tried a few antidepressants over th...</td>\n",
       "      <td>10.0</td>\n",
       "      <td>2012-02-28</td>\n",
       "      <td>22</td>\n",
       "    </tr>\n",
       "    <tr>\n",
       "      <th>1</th>\n",
       "      <td>206473</td>\n",
       "      <td>Mesalamine</td>\n",
       "      <td>Crohn's Disease, Maintenance</td>\n",
       "      <td>\"My son has Crohn&amp;#039;s disease and has done ...</td>\n",
       "      <td>8.0</td>\n",
       "      <td>2009-05-17</td>\n",
       "      <td>17</td>\n",
       "    </tr>\n",
       "    <tr>\n",
       "      <th>2</th>\n",
       "      <td>159672</td>\n",
       "      <td>Bactrim</td>\n",
       "      <td>Urinary Tract Infection</td>\n",
       "      <td>\"Quick reduction of symptoms\"</td>\n",
       "      <td>9.0</td>\n",
       "      <td>2017-09-29</td>\n",
       "      <td>3</td>\n",
       "    </tr>\n",
       "    <tr>\n",
       "      <th>3</th>\n",
       "      <td>39293</td>\n",
       "      <td>Contrave</td>\n",
       "      <td>Weight Loss</td>\n",
       "      <td>\"Contrave combines drugs that were used for al...</td>\n",
       "      <td>9.0</td>\n",
       "      <td>2017-03-05</td>\n",
       "      <td>35</td>\n",
       "    </tr>\n",
       "    <tr>\n",
       "      <th>4</th>\n",
       "      <td>97768</td>\n",
       "      <td>Cyclafem 1 / 35</td>\n",
       "      <td>Birth Control</td>\n",
       "      <td>\"I have been on this birth control for one cyc...</td>\n",
       "      <td>9.0</td>\n",
       "      <td>2015-10-22</td>\n",
       "      <td>4</td>\n",
       "    </tr>\n",
       "  </tbody>\n",
       "</table>\n",
       "</div>"
      ],
      "text/plain": [
       "   Unnamed: 0         drugName                     condition  \\\n",
       "0      163740      Mirtazapine                    Depression   \n",
       "1      206473       Mesalamine  Crohn's Disease, Maintenance   \n",
       "2      159672          Bactrim       Urinary Tract Infection   \n",
       "3       39293         Contrave                   Weight Loss   \n",
       "4       97768  Cyclafem 1 / 35                 Birth Control   \n",
       "\n",
       "                                              review  rating       date  \\\n",
       "0  \"I&#039;ve tried a few antidepressants over th...    10.0 2012-02-28   \n",
       "1  \"My son has Crohn&#039;s disease and has done ...     8.0 2009-05-17   \n",
       "2                      \"Quick reduction of symptoms\"     9.0 2017-09-29   \n",
       "3  \"Contrave combines drugs that were used for al...     9.0 2017-03-05   \n",
       "4  \"I have been on this birth control for one cyc...     9.0 2015-10-22   \n",
       "\n",
       "   usefulCount  \n",
       "0           22  \n",
       "1           17  \n",
       "2            3  \n",
       "3           35  \n",
       "4            4  "
      ]
     },
     "metadata": {},
     "output_type": "display_data"
    },
    {
     "data": {
      "text/html": [
       "<div>\n",
       "<style scoped>\n",
       "    .dataframe tbody tr th:only-of-type {\n",
       "        vertical-align: middle;\n",
       "    }\n",
       "\n",
       "    .dataframe tbody tr th {\n",
       "        vertical-align: top;\n",
       "    }\n",
       "\n",
       "    .dataframe thead th {\n",
       "        text-align: right;\n",
       "    }\n",
       "</style>\n",
       "<table border=\"1\" class=\"dataframe\">\n",
       "  <thead>\n",
       "    <tr style=\"text-align: right;\">\n",
       "      <th></th>\n",
       "      <th>Процент пропусков</th>\n",
       "    </tr>\n",
       "  </thead>\n",
       "  <tbody>\n",
       "    <tr>\n",
       "      <th>condition</th>\n",
       "      <td>0.55</td>\n",
       "    </tr>\n",
       "    <tr>\n",
       "      <th>Unnamed: 0</th>\n",
       "      <td>0.00</td>\n",
       "    </tr>\n",
       "    <tr>\n",
       "      <th>drugName</th>\n",
       "      <td>0.00</td>\n",
       "    </tr>\n",
       "    <tr>\n",
       "      <th>review</th>\n",
       "      <td>0.00</td>\n",
       "    </tr>\n",
       "    <tr>\n",
       "      <th>rating</th>\n",
       "      <td>0.00</td>\n",
       "    </tr>\n",
       "    <tr>\n",
       "      <th>date</th>\n",
       "      <td>0.00</td>\n",
       "    </tr>\n",
       "    <tr>\n",
       "      <th>usefulCount</th>\n",
       "      <td>0.00</td>\n",
       "    </tr>\n",
       "  </tbody>\n",
       "</table>\n",
       "</div>"
      ],
      "text/plain": [
       "             Процент пропусков\n",
       "condition                 0.55\n",
       "Unnamed: 0                0.00\n",
       "drugName                  0.00\n",
       "review                    0.00\n",
       "rating                    0.00\n",
       "date                      0.00\n",
       "usefulCount               0.00"
      ]
     },
     "metadata": {},
     "output_type": "display_data"
    },
    {
     "name": "stdout",
     "output_type": "stream",
     "text": [
      "<class 'pandas.core.frame.DataFrame'>\n",
      "RangeIndex: 53766 entries, 0 to 53765\n",
      "Data columns (total 7 columns):\n",
      " #   Column       Non-Null Count  Dtype         \n",
      "---  ------       --------------  -----         \n",
      " 0   Unnamed: 0   53766 non-null  int64         \n",
      " 1   drugName     53766 non-null  object        \n",
      " 2   condition    53471 non-null  object        \n",
      " 3   review       53766 non-null  object        \n",
      " 4   rating       53766 non-null  float64       \n",
      " 5   date         53766 non-null  datetime64[ns]\n",
      " 6   usefulCount  53766 non-null  int64         \n",
      "dtypes: datetime64[ns](1), float64(1), int64(2), object(3)\n",
      "memory usage: 2.9+ MB\n"
     ]
    }
   ],
   "source": [
    "drugs_data_test = check_dataset('./datasets/drugsComTest_raw.tsv')"
   ]
  },
  {
   "cell_type": "markdown",
   "id": "82e9ae09",
   "metadata": {},
   "source": [
    "В отзывах на лекарства наблюдается спец-символ *\\&#039;*, который является апострофом ('). В датасете наблюдается 0.55% пропусков в столбце с местом применения `condition`. "
   ]
  },
  {
   "cell_type": "markdown",
   "id": "bcce7f6d",
   "metadata": {},
   "source": [
    "#### Предобработка данных"
   ]
  },
  {
   "cell_type": "code",
   "execution_count": 51,
   "id": "24afd084",
   "metadata": {},
   "outputs": [],
   "source": [
    "drugs_data.rename({'Unnamed: 0':'id'}, axis=1, inplace=True)\n",
    "drugs_data_test.rename({'Unnamed: 0':'id'}, axis=1, inplace=True)"
   ]
  },
  {
   "cell_type": "markdown",
   "id": "88fb17d7",
   "metadata": {},
   "source": [
    "Название колонки уникального идентификатора пользователя было переименовано в `id`."
   ]
  },
  {
   "cell_type": "code",
   "execution_count": 62,
   "id": "12aafdfb",
   "metadata": {},
   "outputs": [
    {
     "data": {
      "text/plain": [
       "np.int64(0)"
      ]
     },
     "execution_count": 62,
     "metadata": {},
     "output_type": "execute_result"
    }
   ],
   "source": [
    "drugs_data.duplicated(subset=[\"id\"]).sum()"
   ]
  },
  {
   "cell_type": "markdown",
   "id": "b8105308",
   "metadata": {},
   "source": [
    "В тренировочном датасете отсутствуют неявные дубликаты."
   ]
  },
  {
   "cell_type": "code",
   "execution_count": 52,
   "id": "566bfba6",
   "metadata": {},
   "outputs": [
    {
     "name": "stdout",
     "output_type": "stream",
     "text": [
      "\"I have been on this medication almost two weeks, started out on 25mg and working my way up to 100mg, currently at 50mg. No headaches at all so far and I was having 2-3 crippling migraines a week. I have lost 5.2lbs so far but note I am really paying close attention to what I am eating, I have a lot of weight to lose and if weight loss is a side effect I want to help it along as much as I can.  Now, other side effects, they are there the word recall issues exist, the memory issues, the worst of it seems to be the vision disturbances, there have been times I have just not driven because I&#039;m sure it would not have been safe. The good news is it seems to be wearing off...I have tons of energy and I am in a great mood.\"\n",
      "\n",
      "\"I have taken anti-depressants for years, with some improvement but mostly moderate to severe side affects, which makes me go off them.\n",
      "\n",
      "I only take Cymbalta now mostly for pain.\n",
      "\n",
      "When I began Deplin, I noticed a major improvement overnight. More energy, better disposition, and no sinking to the low lows of major depression. I have been taking it for about 3 months now and feel like a normal person for the first time ever. Best thing, no side effects.\"\n",
      "\n",
      "\"I had Crohn&#039;s with a resection 30 years ago and have been mostly in remission since.  Have recently had a bad flare and narrowing at the anastomosis and need to be on medication, but haven&#039;t found one that I can handle.  Asacol gave me such serious body aching and fatigue that I could not function.  Pentasa immediately gave me heart palpitations and arrhythmias so I had to discontinue it.\"\n",
      "\n",
      "\"Have a little bit of a lingering cough from a cold. Not giving me much trouble except keeps me up at night. I heard this was good so I took so I could get some sleep. Helped tremendously with the cough but then I was having bad stomach cramps and diarrhea. I hadn&#039;t eaten anything that should have upset my stomach and it didn&#039;t really feel like a &quot;bug&quot; so I looked up side effects for Delsym.  Now I wish I had done that first because I probably wouldn&#039;t have taken it. So, while it worked for my cough I still didn&#039;t get any sleep due to the stomach issues.\"\n",
      "\n",
      "\"Started Nexplanon 2 months ago because I have a minimal amount of contraception&#039;s I can take due to my inability to take the hormone that is used in most birth controls. I&#039;m trying to give it time because it is one of my only options right now. But honestly if I had options I&#039;d get it removed.\n",
      "I&#039;ve never had acne problems in my life, and immediately broke out after getting it implanted. Sex drive is completely gone, and I used to have sex with my boyfriend a few days a week, now its completely forced and not even fun for me anymore. I mean I&#039;m on birth control because I like having sex but don&#039;t want to get pregnant, why take a birth control that takes away sex? Very unhappy and hope that I get it back with time or I&#039;m getting it removed.\"\n",
      "\n"
     ]
    }
   ],
   "source": [
    "for i in range(10, 15):\n",
    "    print(drugs_data['review'][i])\n",
    "    print()"
   ]
  },
  {
   "cell_type": "markdown",
   "id": "20e4650d",
   "metadata": {},
   "source": [
    "В отзывах наблюдается специальный символ *\\&#039;*. Также имеются повторяющиеся пробелы."
   ]
  },
  {
   "cell_type": "code",
   "execution_count": 53,
   "id": "7b902b65",
   "metadata": {},
   "outputs": [],
   "source": [
    "# Функция для очистки отзывов пользователей\n",
    "def get_clean_text(row_review):\n",
    "    row_review = row_review.replace('&#039;', \"'\")\n",
    "    row_review = re.sub(r'[(),.!?]', '', row_review)\n",
    "    row_review = re.sub(r'\\s+', ' ', row_review)\n",
    "    return row_review.lower()"
   ]
  },
  {
   "cell_type": "code",
   "execution_count": 54,
   "id": "4b9b8a70",
   "metadata": {},
   "outputs": [],
   "source": [
    "drugs_data['review'] = drugs_data['review'].apply(get_clean_text)\n",
    "drugs_data_test['review'] = drugs_data_test['review'].apply(get_clean_text)"
   ]
  },
  {
   "cell_type": "markdown",
   "id": "5e0478a9",
   "metadata": {},
   "source": [
    "Отзывы тренировочного и тестового датасетов были предобработаны. Специальный символ изменен на апостроф. Скобки, знаки препинания и повторяющиеся пробелы были удалены."
   ]
  },
  {
   "cell_type": "markdown",
   "id": "f43aab38",
   "metadata": {},
   "source": [
    "### Исследовательский анализ"
   ]
  },
  {
   "cell_type": "markdown",
   "id": "6298609e",
   "metadata": {},
   "source": []
  }
 ],
 "metadata": {
  "kernelspec": {
   "display_name": "myenv",
   "language": "python",
   "name": "python3"
  },
  "language_info": {
   "codemirror_mode": {
    "name": "ipython",
    "version": 3
   },
   "file_extension": ".py",
   "mimetype": "text/x-python",
   "name": "python",
   "nbconvert_exporter": "python",
   "pygments_lexer": "ipython3",
   "version": "3.12.7"
  }
 },
 "nbformat": 4,
 "nbformat_minor": 5
}
